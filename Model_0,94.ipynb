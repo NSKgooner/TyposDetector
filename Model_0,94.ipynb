{
 "cells": [
  {
   "cell_type": "code",
   "execution_count": 2,
   "metadata": {},
   "outputs": [],
   "source": [
    "from dawg import IntDAWG\n",
    "from scipy import sparse\n",
    "\n",
    "import pandas as pd\n",
    "import numpy as np"
   ]
  },
  {
   "cell_type": "code",
   "execution_count": 7,
   "metadata": {},
   "outputs": [],
   "source": [
    "train = pd.read_csv('learn.csv')\n",
    "test = pd.read_csv('exam.csv')"
   ]
  },
  {
   "cell_type": "code",
   "execution_count": 8,
   "metadata": {},
   "outputs": [
    {
     "data": {
      "text/plain": [
       "(718608, 5)"
      ]
     },
     "execution_count": 8,
     "metadata": {},
     "output_type": "execute_result"
    }
   ],
   "source": [
    "train.shape"
   ]
  },
  {
   "cell_type": "code",
   "execution_count": 9,
   "metadata": {},
   "outputs": [
    {
     "data": {
      "text/plain": [
       "(250000, 4)"
      ]
     },
     "execution_count": 9,
     "metadata": {},
     "output_type": "execute_result"
    }
   ],
   "source": [
    "test.shape"
   ]
  },
  {
   "cell_type": "code",
   "execution_count": 11,
   "metadata": {},
   "outputs": [],
   "source": [
    "accepted_chars_rus = \"АБВГДЕЁЖЗИЙКЛМНОПРСТУФХЦЧШЩЪЫЬЭЮЯ'.-\"\n",
    "accepted_chars_lat = \"ABCDEFGHIJKLMNOPQRSTUVWXYZ'.-\"\n",
    "top_iso = [ 'iso_' + a for a in list(train['COUNTRYISO'].value_counts().keys())[:25] ]\n",
    "features = list()\n",
    "for i in accepted_chars_lat:\n",
    "    for j in accepted_chars_lat:\n",
    "        for k in accepted_chars_lat:\n",
    "            features.append(i+j+k)\n",
    "for i in accepted_chars_rus:\n",
    "    for j in accepted_chars_rus:\n",
    "        for k in accepted_chars_rus:\n",
    "            features.append(i+j+k)\n",
    "features.extend(top_iso)\n",
    "features_pairs = list(zip(features, range(len(features))))\n",
    "features_dawg = IntDAWG(features_pairs)\n",
    "feature_list = list(accepted_chars_rus + accepted_chars_lat) + top_iso\n",
    "trigrams = lambda a: zip(a, a[1:], a[2:])"
   ]
  },
  {
   "cell_type": "code",
   "execution_count": 12,
   "metadata": {},
   "outputs": [],
   "source": [
    "def construct_datasets(row):\n",
    "    cur_feat_ids = []\n",
    "    for trigram in trigrams(row['FULLNAME']):\n",
    "        trigram = ''.join(trigram)\n",
    "        if trigram in features_dawg:\n",
    "#             print(trigram, row['FULLNAME'])\n",
    "            cur_feat_ids.append(features_dawg[trigram])\n",
    "    iso = 'iso_' + row['COUNTRYISO']\n",
    "    if iso in features_dawg:\n",
    "        cur_feat_ids.append(features_dawg[iso])\n",
    "    cur_feat_ids = sorted(list(set(cur_feat_ids)))\n",
    "    data = np.array([1]*len(cur_feat_ids))\n",
    "    indices = np.array(cur_feat_ids)\n",
    "    indptr = np.array([0,len(cur_feat_ids)])\n",
    "    return sparse.csr_matrix((data, indices, indptr), shape=(1, len(features))).astype(np.float64)"
   ]
  },
  {
   "cell_type": "code",
   "execution_count": 13,
   "metadata": {},
   "outputs": [],
   "source": [
    "from sklearn.feature_extraction.text import TfidfVectorizer\n",
    "vectorizer = TfidfVectorizer()\n",
    "\n",
    "X = vectorizer.fit_transform(train['FULLNAME'])\n",
    "Y = vectorizer.transform(test['FULLNAME'])"
   ]
  },
  {
   "cell_type": "code",
   "execution_count": 14,
   "metadata": {},
   "outputs": [
    {
     "name": "stdout",
     "output_type": "stream",
     "text": [
      "CPU times: user 5min 34s, sys: 1.39 s, total: 5min 35s\n",
      "Wall time: 5min 35s\n"
     ]
    }
   ],
   "source": [
    "%%time\n",
    "train['sparse_feats'] = train.apply(construct_datasets, axis=1)\n",
    "test['sparse_feats'] = test.apply(construct_datasets, axis=1)"
   ]
  },
  {
   "cell_type": "code",
   "execution_count": 15,
   "metadata": {},
   "outputs": [
    {
     "name": "stdout",
     "output_type": "stream",
     "text": [
      "CPU times: user 17.2 s, sys: 144 ms, total: 17.3 s\n",
      "Wall time: 17.3 s\n"
     ]
    }
   ],
   "source": [
    "%%time\n",
    "X_train = sparse.vstack(train['sparse_feats'].values)\n",
    "y_train = train['label'].values\n",
    "X_test = sparse.vstack(test['sparse_feats'].values)"
   ]
  },
  {
   "cell_type": "code",
   "execution_count": 16,
   "metadata": {},
   "outputs": [],
   "source": [
    "from scipy.sparse import hstack\n",
    "from scipy.sparse import csr_matrix\n",
    "s_train = csr_matrix(hstack([X_train,X]))\n",
    "s_test = csr_matrix(hstack([X_test,Y]))"
   ]
  },
  {
   "cell_type": "code",
   "execution_count": 20,
   "metadata": {},
   "outputs": [
    {
     "name": "stdout",
     "output_type": "stream",
     "text": [
      "CPU times: user 1.51 s, sys: 417 ms, total: 1.93 s\n",
      "Wall time: 16min 22s\n"
     ]
    }
   ],
   "source": [
    "%%time\n",
    "from sklearn.linear_model import LogisticRegression\n",
    "\n",
    "model = LogisticRegression(C=100, solver = 'lbfgs', multi_class = 'multinomial', max_iter = 1000, n_jobs = -1, random_state = 322).fit(s_train, y_train)"
   ]
  },
  {
   "cell_type": "code",
   "execution_count": 21,
   "metadata": {},
   "outputs": [
    {
     "name": "stdout",
     "output_type": "stream",
     "text": [
      "F1:              precision    recall  f1-score   support\n",
      "\n",
      "          0       1.00      1.00      1.00    579823\n",
      "          1       1.00      1.00      1.00    109430\n",
      "          2       1.00      1.00      1.00     29355\n",
      "\n",
      "avg / total       1.00      1.00      1.00    718608\n",
      "\n"
     ]
    }
   ],
   "source": [
    "from sklearn.metrics import recall_score, precision_score, f1_score,  classification_report\n",
    "\n",
    "print('F1:',classification_report(y_train, model.predict(s_train)))\n",
    "#print('Recall:', recall_score(y_train, model.predict(X_train)))\n",
    "#print('Precision:', precision_score(y_train, model.predict(X_train),average = 'macro'))"
   ]
  },
  {
   "cell_type": "code",
   "execution_count": 24,
   "metadata": {},
   "outputs": [],
   "source": [
    "y_test = model.predict(s_test)"
   ]
  },
  {
   "cell_type": "code",
   "execution_count": 25,
   "metadata": {},
   "outputs": [
    {
     "data": {
      "text/plain": [
       "56750"
      ]
     },
     "execution_count": 25,
     "metadata": {},
     "output_type": "execute_result"
    }
   ],
   "source": [
    "sum(y_test)"
   ]
  },
  {
   "cell_type": "code",
   "execution_count": 26,
   "metadata": {},
   "outputs": [],
   "source": [
    "with open('predictions/big_data_submission.csv', 'w') as f:\n",
    "    f.write('lol'+'\\n')\n",
    "    f.write('\\n'.join(list(map(str, y_test))))"
   ]
  },
  {
   "cell_type": "code",
   "execution_count": 27,
   "metadata": {},
   "outputs": [
    {
     "data": {
      "text/plain": [
       "['finalized_model.sav']"
      ]
     },
     "execution_count": 27,
     "metadata": {},
     "output_type": "execute_result"
    }
   ],
   "source": [
    "from sklearn.externals import joblib\n",
    "from sklearn import model_selection\n",
    "\n",
    "filename = 'finalized_model.sav'\n",
    "joblib.dump(model, filename)"
   ]
  },
  {
   "cell_type": "code",
   "execution_count": null,
   "metadata": {},
   "outputs": [],
   "source": []
  }
 ],
 "metadata": {
  "kernelspec": {
   "display_name": "Python 3",
   "language": "python",
   "name": "python3"
  },
  "language_info": {
   "codemirror_mode": {
    "name": "ipython",
    "version": 3
   },
   "file_extension": ".py",
   "mimetype": "text/x-python",
   "name": "python",
   "nbconvert_exporter": "python",
   "pygments_lexer": "ipython3",
   "version": "3.6.5"
  }
 },
 "nbformat": 4,
 "nbformat_minor": 2
}
